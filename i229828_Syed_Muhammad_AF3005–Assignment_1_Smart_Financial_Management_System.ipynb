{
  "nbformat": 4,
  "nbformat_minor": 0,
  "metadata": {
    "colab": {
      "provenance": []
    },
    "kernelspec": {
      "name": "python3",
      "display_name": "Python 3"
    },
    "language_info": {
      "name": "python"
    },
    "widgets": {
      "application/vnd.jupyter.widget-state+json": {
        "bbc8dfc2837e4f0b8f5b71f58d210095": {
          "model_module": "@jupyter-widgets/controls",
          "model_name": "IntTextModel",
          "model_module_version": "1.5.0",
          "state": {
            "_dom_classes": [],
            "_model_module": "@jupyter-widgets/controls",
            "_model_module_version": "1.5.0",
            "_model_name": "IntTextModel",
            "_view_count": null,
            "_view_module": "@jupyter-widgets/controls",
            "_view_module_version": "1.5.0",
            "_view_name": "IntTextView",
            "continuous_update": false,
            "description": "Income (PKR):",
            "description_tooltip": null,
            "disabled": false,
            "layout": "IPY_MODEL_abb1412dcfc5407da73cbf676318a56c",
            "step": 1,
            "style": "IPY_MODEL_a52acb6ff8e5469d9ae23300dc3b2f19",
            "value": 0
          }
        },
        "abb1412dcfc5407da73cbf676318a56c": {
          "model_module": "@jupyter-widgets/base",
          "model_name": "LayoutModel",
          "model_module_version": "1.2.0",
          "state": {
            "_model_module": "@jupyter-widgets/base",
            "_model_module_version": "1.2.0",
            "_model_name": "LayoutModel",
            "_view_count": null,
            "_view_module": "@jupyter-widgets/base",
            "_view_module_version": "1.2.0",
            "_view_name": "LayoutView",
            "align_content": null,
            "align_items": null,
            "align_self": null,
            "border": null,
            "bottom": null,
            "display": null,
            "flex": null,
            "flex_flow": null,
            "grid_area": null,
            "grid_auto_columns": null,
            "grid_auto_flow": null,
            "grid_auto_rows": null,
            "grid_column": null,
            "grid_gap": null,
            "grid_row": null,
            "grid_template_areas": null,
            "grid_template_columns": null,
            "grid_template_rows": null,
            "height": null,
            "justify_content": null,
            "justify_items": null,
            "left": null,
            "margin": null,
            "max_height": null,
            "max_width": null,
            "min_height": null,
            "min_width": null,
            "object_fit": null,
            "object_position": null,
            "order": null,
            "overflow": null,
            "overflow_x": null,
            "overflow_y": null,
            "padding": null,
            "right": null,
            "top": null,
            "visibility": null,
            "width": null
          }
        },
        "a52acb6ff8e5469d9ae23300dc3b2f19": {
          "model_module": "@jupyter-widgets/controls",
          "model_name": "DescriptionStyleModel",
          "model_module_version": "1.5.0",
          "state": {
            "_model_module": "@jupyter-widgets/controls",
            "_model_module_version": "1.5.0",
            "_model_name": "DescriptionStyleModel",
            "_view_count": null,
            "_view_module": "@jupyter-widgets/base",
            "_view_module_version": "1.2.0",
            "_view_name": "StyleView",
            "description_width": ""
          }
        },
        "2494d2a9218149c1b202104875906956": {
          "model_module": "@jupyter-widgets/controls",
          "model_name": "IntSliderModel",
          "model_module_version": "1.5.0",
          "state": {
            "_dom_classes": [],
            "_model_module": "@jupyter-widgets/controls",
            "_model_module_version": "1.5.0",
            "_model_name": "IntSliderModel",
            "_view_count": null,
            "_view_module": "@jupyter-widgets/controls",
            "_view_module_version": "1.5.0",
            "_view_name": "IntSliderView",
            "continuous_update": true,
            "description": "Credit Score:",
            "description_tooltip": null,
            "disabled": false,
            "layout": "IPY_MODEL_c1b94ae32956452a8f79e3f5e950a4d0",
            "max": 850,
            "min": 300,
            "orientation": "horizontal",
            "readout": true,
            "readout_format": "d",
            "step": 10,
            "style": "IPY_MODEL_42bbcedcaff54fe3ad6ea11188bd5e4d",
            "value": 300
          }
        },
        "c1b94ae32956452a8f79e3f5e950a4d0": {
          "model_module": "@jupyter-widgets/base",
          "model_name": "LayoutModel",
          "model_module_version": "1.2.0",
          "state": {
            "_model_module": "@jupyter-widgets/base",
            "_model_module_version": "1.2.0",
            "_model_name": "LayoutModel",
            "_view_count": null,
            "_view_module": "@jupyter-widgets/base",
            "_view_module_version": "1.2.0",
            "_view_name": "LayoutView",
            "align_content": null,
            "align_items": null,
            "align_self": null,
            "border": null,
            "bottom": null,
            "display": null,
            "flex": null,
            "flex_flow": null,
            "grid_area": null,
            "grid_auto_columns": null,
            "grid_auto_flow": null,
            "grid_auto_rows": null,
            "grid_column": null,
            "grid_gap": null,
            "grid_row": null,
            "grid_template_areas": null,
            "grid_template_columns": null,
            "grid_template_rows": null,
            "height": null,
            "justify_content": null,
            "justify_items": null,
            "left": null,
            "margin": null,
            "max_height": null,
            "max_width": null,
            "min_height": null,
            "min_width": null,
            "object_fit": null,
            "object_position": null,
            "order": null,
            "overflow": null,
            "overflow_x": null,
            "overflow_y": null,
            "padding": null,
            "right": null,
            "top": null,
            "visibility": null,
            "width": null
          }
        },
        "42bbcedcaff54fe3ad6ea11188bd5e4d": {
          "model_module": "@jupyter-widgets/controls",
          "model_name": "SliderStyleModel",
          "model_module_version": "1.5.0",
          "state": {
            "_model_module": "@jupyter-widgets/controls",
            "_model_module_version": "1.5.0",
            "_model_name": "SliderStyleModel",
            "_view_count": null,
            "_view_module": "@jupyter-widgets/base",
            "_view_module_version": "1.2.0",
            "_view_name": "StyleView",
            "description_width": "",
            "handle_color": null
          }
        },
        "7eb2e4e2ce43450ababf0fa0aea34930": {
          "model_module": "@jupyter-widgets/controls",
          "model_name": "DropdownModel",
          "model_module_version": "1.5.0",
          "state": {
            "_dom_classes": [],
            "_model_module": "@jupyter-widgets/controls",
            "_model_module_version": "1.5.0",
            "_model_name": "DropdownModel",
            "_options_labels": [
              "Employed",
              "Unemployed"
            ],
            "_view_count": null,
            "_view_module": "@jupyter-widgets/controls",
            "_view_module_version": "1.5.0",
            "_view_name": "DropdownView",
            "description": "Employment:",
            "description_tooltip": null,
            "disabled": false,
            "index": 0,
            "layout": "IPY_MODEL_5dbb25be8c4b434a93230e7f46567345",
            "style": "IPY_MODEL_d298cffbccc8429ab12c89a4881618ec"
          }
        },
        "5dbb25be8c4b434a93230e7f46567345": {
          "model_module": "@jupyter-widgets/base",
          "model_name": "LayoutModel",
          "model_module_version": "1.2.0",
          "state": {
            "_model_module": "@jupyter-widgets/base",
            "_model_module_version": "1.2.0",
            "_model_name": "LayoutModel",
            "_view_count": null,
            "_view_module": "@jupyter-widgets/base",
            "_view_module_version": "1.2.0",
            "_view_name": "LayoutView",
            "align_content": null,
            "align_items": null,
            "align_self": null,
            "border": null,
            "bottom": null,
            "display": null,
            "flex": null,
            "flex_flow": null,
            "grid_area": null,
            "grid_auto_columns": null,
            "grid_auto_flow": null,
            "grid_auto_rows": null,
            "grid_column": null,
            "grid_gap": null,
            "grid_row": null,
            "grid_template_areas": null,
            "grid_template_columns": null,
            "grid_template_rows": null,
            "height": null,
            "justify_content": null,
            "justify_items": null,
            "left": null,
            "margin": null,
            "max_height": null,
            "max_width": null,
            "min_height": null,
            "min_width": null,
            "object_fit": null,
            "object_position": null,
            "order": null,
            "overflow": null,
            "overflow_x": null,
            "overflow_y": null,
            "padding": null,
            "right": null,
            "top": null,
            "visibility": null,
            "width": null
          }
        },
        "d298cffbccc8429ab12c89a4881618ec": {
          "model_module": "@jupyter-widgets/controls",
          "model_name": "DescriptionStyleModel",
          "model_module_version": "1.5.0",
          "state": {
            "_model_module": "@jupyter-widgets/controls",
            "_model_module_version": "1.5.0",
            "_model_name": "DescriptionStyleModel",
            "_view_count": null,
            "_view_module": "@jupyter-widgets/base",
            "_view_module_version": "1.2.0",
            "_view_name": "StyleView",
            "description_width": ""
          }
        },
        "7e9edac9c85d46b2ae1140bc44f31a1b": {
          "model_module": "@jupyter-widgets/controls",
          "model_name": "ButtonModel",
          "model_module_version": "1.5.0",
          "state": {
            "_dom_classes": [],
            "_model_module": "@jupyter-widgets/controls",
            "_model_module_version": "1.5.0",
            "_model_name": "ButtonModel",
            "_view_count": null,
            "_view_module": "@jupyter-widgets/controls",
            "_view_module_version": "1.5.0",
            "_view_name": "ButtonView",
            "button_style": "",
            "description": "Check Loan Eligibility",
            "disabled": false,
            "icon": "",
            "layout": "IPY_MODEL_baf0a9f17b7d4326bcb308bf60c587e7",
            "style": "IPY_MODEL_83b818c9f4b147ab82ccc6bdc455b737",
            "tooltip": ""
          }
        },
        "baf0a9f17b7d4326bcb308bf60c587e7": {
          "model_module": "@jupyter-widgets/base",
          "model_name": "LayoutModel",
          "model_module_version": "1.2.0",
          "state": {
            "_model_module": "@jupyter-widgets/base",
            "_model_module_version": "1.2.0",
            "_model_name": "LayoutModel",
            "_view_count": null,
            "_view_module": "@jupyter-widgets/base",
            "_view_module_version": "1.2.0",
            "_view_name": "LayoutView",
            "align_content": null,
            "align_items": null,
            "align_self": null,
            "border": null,
            "bottom": null,
            "display": null,
            "flex": null,
            "flex_flow": null,
            "grid_area": null,
            "grid_auto_columns": null,
            "grid_auto_flow": null,
            "grid_auto_rows": null,
            "grid_column": null,
            "grid_gap": null,
            "grid_row": null,
            "grid_template_areas": null,
            "grid_template_columns": null,
            "grid_template_rows": null,
            "height": null,
            "justify_content": null,
            "justify_items": null,
            "left": null,
            "margin": null,
            "max_height": null,
            "max_width": null,
            "min_height": null,
            "min_width": null,
            "object_fit": null,
            "object_position": null,
            "order": null,
            "overflow": null,
            "overflow_x": null,
            "overflow_y": null,
            "padding": null,
            "right": null,
            "top": null,
            "visibility": null,
            "width": null
          }
        },
        "83b818c9f4b147ab82ccc6bdc455b737": {
          "model_module": "@jupyter-widgets/controls",
          "model_name": "ButtonStyleModel",
          "model_module_version": "1.5.0",
          "state": {
            "_model_module": "@jupyter-widgets/controls",
            "_model_module_version": "1.5.0",
            "_model_name": "ButtonStyleModel",
            "_view_count": null,
            "_view_module": "@jupyter-widgets/base",
            "_view_module_version": "1.2.0",
            "_view_name": "StyleView",
            "button_color": null,
            "font_weight": ""
          }
        },
        "d6d4768238f745e19833f71152ba7d9c": {
          "model_module": "@jupyter-widgets/output",
          "model_name": "OutputModel",
          "model_module_version": "1.0.0",
          "state": {
            "_dom_classes": [],
            "_model_module": "@jupyter-widgets/output",
            "_model_module_version": "1.0.0",
            "_model_name": "OutputModel",
            "_view_count": null,
            "_view_module": "@jupyter-widgets/output",
            "_view_module_version": "1.0.0",
            "_view_name": "OutputView",
            "layout": "IPY_MODEL_56688e4bfd654d5fabd7a67cbf4f89d3",
            "msg_id": "",
            "outputs": []
          }
        },
        "56688e4bfd654d5fabd7a67cbf4f89d3": {
          "model_module": "@jupyter-widgets/base",
          "model_name": "LayoutModel",
          "model_module_version": "1.2.0",
          "state": {
            "_model_module": "@jupyter-widgets/base",
            "_model_module_version": "1.2.0",
            "_model_name": "LayoutModel",
            "_view_count": null,
            "_view_module": "@jupyter-widgets/base",
            "_view_module_version": "1.2.0",
            "_view_name": "LayoutView",
            "align_content": null,
            "align_items": null,
            "align_self": null,
            "border": null,
            "bottom": null,
            "display": null,
            "flex": null,
            "flex_flow": null,
            "grid_area": null,
            "grid_auto_columns": null,
            "grid_auto_flow": null,
            "grid_auto_rows": null,
            "grid_column": null,
            "grid_gap": null,
            "grid_row": null,
            "grid_template_areas": null,
            "grid_template_columns": null,
            "grid_template_rows": null,
            "height": null,
            "justify_content": null,
            "justify_items": null,
            "left": null,
            "margin": null,
            "max_height": null,
            "max_width": null,
            "min_height": null,
            "min_width": null,
            "object_fit": null,
            "object_position": null,
            "order": null,
            "overflow": null,
            "overflow_x": null,
            "overflow_y": null,
            "padding": null,
            "right": null,
            "top": null,
            "visibility": null,
            "width": null
          }
        },
        "cfbcd0c08f1540a699a6bf7e6bea9382": {
          "model_module": "@jupyter-widgets/controls",
          "model_name": "TextModel",
          "model_module_version": "1.5.0",
          "state": {
            "_dom_classes": [],
            "_model_module": "@jupyter-widgets/controls",
            "_model_module_version": "1.5.0",
            "_model_name": "TextModel",
            "_view_count": null,
            "_view_module": "@jupyter-widgets/controls",
            "_view_module_version": "1.5.0",
            "_view_name": "TextView",
            "continuous_update": true,
            "description": "Stock Returns (comma separated):",
            "description_tooltip": null,
            "disabled": false,
            "layout": "IPY_MODEL_6925ab69200943adae6143e42c7f09c7",
            "placeholder": "​",
            "style": "IPY_MODEL_fbc3330036e345928ee4a5676e9ec537",
            "value": ""
          }
        },
        "6925ab69200943adae6143e42c7f09c7": {
          "model_module": "@jupyter-widgets/base",
          "model_name": "LayoutModel",
          "model_module_version": "1.2.0",
          "state": {
            "_model_module": "@jupyter-widgets/base",
            "_model_module_version": "1.2.0",
            "_model_name": "LayoutModel",
            "_view_count": null,
            "_view_module": "@jupyter-widgets/base",
            "_view_module_version": "1.2.0",
            "_view_name": "LayoutView",
            "align_content": null,
            "align_items": null,
            "align_self": null,
            "border": null,
            "bottom": null,
            "display": null,
            "flex": null,
            "flex_flow": null,
            "grid_area": null,
            "grid_auto_columns": null,
            "grid_auto_flow": null,
            "grid_auto_rows": null,
            "grid_column": null,
            "grid_gap": null,
            "grid_row": null,
            "grid_template_areas": null,
            "grid_template_columns": null,
            "grid_template_rows": null,
            "height": null,
            "justify_content": null,
            "justify_items": null,
            "left": null,
            "margin": null,
            "max_height": null,
            "max_width": null,
            "min_height": null,
            "min_width": null,
            "object_fit": null,
            "object_position": null,
            "order": null,
            "overflow": null,
            "overflow_x": null,
            "overflow_y": null,
            "padding": null,
            "right": null,
            "top": null,
            "visibility": null,
            "width": null
          }
        },
        "fbc3330036e345928ee4a5676e9ec537": {
          "model_module": "@jupyter-widgets/controls",
          "model_name": "DescriptionStyleModel",
          "model_module_version": "1.5.0",
          "state": {
            "_model_module": "@jupyter-widgets/controls",
            "_model_module_version": "1.5.0",
            "_model_name": "DescriptionStyleModel",
            "_view_count": null,
            "_view_module": "@jupyter-widgets/base",
            "_view_module_version": "1.2.0",
            "_view_name": "StyleView",
            "description_width": ""
          }
        },
        "55bd18ec9d4047e8933aec5a5ca0e309": {
          "model_module": "@jupyter-widgets/controls",
          "model_name": "ButtonModel",
          "model_module_version": "1.5.0",
          "state": {
            "_dom_classes": [],
            "_model_module": "@jupyter-widgets/controls",
            "_model_module_version": "1.5.0",
            "_model_name": "ButtonModel",
            "_view_count": null,
            "_view_module": "@jupyter-widgets/controls",
            "_view_module_version": "1.5.0",
            "_view_name": "ButtonView",
            "button_style": "",
            "description": "Assess Risk",
            "disabled": false,
            "icon": "",
            "layout": "IPY_MODEL_f25ac0807f3641159b3aff1041a72452",
            "style": "IPY_MODEL_5fd1fdc034004990988e9691d31ba850",
            "tooltip": ""
          }
        },
        "f25ac0807f3641159b3aff1041a72452": {
          "model_module": "@jupyter-widgets/base",
          "model_name": "LayoutModel",
          "model_module_version": "1.2.0",
          "state": {
            "_model_module": "@jupyter-widgets/base",
            "_model_module_version": "1.2.0",
            "_model_name": "LayoutModel",
            "_view_count": null,
            "_view_module": "@jupyter-widgets/base",
            "_view_module_version": "1.2.0",
            "_view_name": "LayoutView",
            "align_content": null,
            "align_items": null,
            "align_self": null,
            "border": null,
            "bottom": null,
            "display": null,
            "flex": null,
            "flex_flow": null,
            "grid_area": null,
            "grid_auto_columns": null,
            "grid_auto_flow": null,
            "grid_auto_rows": null,
            "grid_column": null,
            "grid_gap": null,
            "grid_row": null,
            "grid_template_areas": null,
            "grid_template_columns": null,
            "grid_template_rows": null,
            "height": null,
            "justify_content": null,
            "justify_items": null,
            "left": null,
            "margin": null,
            "max_height": null,
            "max_width": null,
            "min_height": null,
            "min_width": null,
            "object_fit": null,
            "object_position": null,
            "order": null,
            "overflow": null,
            "overflow_x": null,
            "overflow_y": null,
            "padding": null,
            "right": null,
            "top": null,
            "visibility": null,
            "width": null
          }
        },
        "5fd1fdc034004990988e9691d31ba850": {
          "model_module": "@jupyter-widgets/controls",
          "model_name": "ButtonStyleModel",
          "model_module_version": "1.5.0",
          "state": {
            "_model_module": "@jupyter-widgets/controls",
            "_model_module_version": "1.5.0",
            "_model_name": "ButtonStyleModel",
            "_view_count": null,
            "_view_module": "@jupyter-widgets/base",
            "_view_module_version": "1.2.0",
            "_view_name": "StyleView",
            "button_color": null,
            "font_weight": ""
          }
        },
        "d5c82b11d58b4ebe875ac017a6925b37": {
          "model_module": "@jupyter-widgets/output",
          "model_name": "OutputModel",
          "model_module_version": "1.0.0",
          "state": {
            "_dom_classes": [],
            "_model_module": "@jupyter-widgets/output",
            "_model_module_version": "1.0.0",
            "_model_name": "OutputModel",
            "_view_count": null,
            "_view_module": "@jupyter-widgets/output",
            "_view_module_version": "1.0.0",
            "_view_name": "OutputView",
            "layout": "IPY_MODEL_d5b7137b35fb445c9379ad30aed9a0ab",
            "msg_id": "",
            "outputs": []
          }
        },
        "d5b7137b35fb445c9379ad30aed9a0ab": {
          "model_module": "@jupyter-widgets/base",
          "model_name": "LayoutModel",
          "model_module_version": "1.2.0",
          "state": {
            "_model_module": "@jupyter-widgets/base",
            "_model_module_version": "1.2.0",
            "_model_name": "LayoutModel",
            "_view_count": null,
            "_view_module": "@jupyter-widgets/base",
            "_view_module_version": "1.2.0",
            "_view_name": "LayoutView",
            "align_content": null,
            "align_items": null,
            "align_self": null,
            "border": null,
            "bottom": null,
            "display": null,
            "flex": null,
            "flex_flow": null,
            "grid_area": null,
            "grid_auto_columns": null,
            "grid_auto_flow": null,
            "grid_auto_rows": null,
            "grid_column": null,
            "grid_gap": null,
            "grid_row": null,
            "grid_template_areas": null,
            "grid_template_columns": null,
            "grid_template_rows": null,
            "height": null,
            "justify_content": null,
            "justify_items": null,
            "left": null,
            "margin": null,
            "max_height": null,
            "max_width": null,
            "min_height": null,
            "min_width": null,
            "object_fit": null,
            "object_position": null,
            "order": null,
            "overflow": null,
            "overflow_x": null,
            "overflow_y": null,
            "padding": null,
            "right": null,
            "top": null,
            "visibility": null,
            "width": null
          }
        },
        "f6748cfe81a4408b828fbe4daaa0f155": {
          "model_module": "@jupyter-widgets/controls",
          "model_name": "IntTextModel",
          "model_module_version": "1.5.0",
          "state": {
            "_dom_classes": [],
            "_model_module": "@jupyter-widgets/controls",
            "_model_module_version": "1.5.0",
            "_model_name": "IntTextModel",
            "_view_count": null,
            "_view_module": "@jupyter-widgets/controls",
            "_view_module_version": "1.5.0",
            "_view_name": "IntTextView",
            "continuous_update": false,
            "description": "Loan Amount:",
            "description_tooltip": null,
            "disabled": false,
            "layout": "IPY_MODEL_a92f9ed640fd4e358900513230d0da3c",
            "step": 1,
            "style": "IPY_MODEL_a132f0b574f54ce08cac44c3aecf82e6",
            "value": 500000
          }
        },
        "a92f9ed640fd4e358900513230d0da3c": {
          "model_module": "@jupyter-widgets/base",
          "model_name": "LayoutModel",
          "model_module_version": "1.2.0",
          "state": {
            "_model_module": "@jupyter-widgets/base",
            "_model_module_version": "1.2.0",
            "_model_name": "LayoutModel",
            "_view_count": null,
            "_view_module": "@jupyter-widgets/base",
            "_view_module_version": "1.2.0",
            "_view_name": "LayoutView",
            "align_content": null,
            "align_items": null,
            "align_self": null,
            "border": null,
            "bottom": null,
            "display": null,
            "flex": null,
            "flex_flow": null,
            "grid_area": null,
            "grid_auto_columns": null,
            "grid_auto_flow": null,
            "grid_auto_rows": null,
            "grid_column": null,
            "grid_gap": null,
            "grid_row": null,
            "grid_template_areas": null,
            "grid_template_columns": null,
            "grid_template_rows": null,
            "height": null,
            "justify_content": null,
            "justify_items": null,
            "left": null,
            "margin": null,
            "max_height": null,
            "max_width": null,
            "min_height": null,
            "min_width": null,
            "object_fit": null,
            "object_position": null,
            "order": null,
            "overflow": null,
            "overflow_x": null,
            "overflow_y": null,
            "padding": null,
            "right": null,
            "top": null,
            "visibility": null,
            "width": null
          }
        },
        "a132f0b574f54ce08cac44c3aecf82e6": {
          "model_module": "@jupyter-widgets/controls",
          "model_name": "DescriptionStyleModel",
          "model_module_version": "1.5.0",
          "state": {
            "_model_module": "@jupyter-widgets/controls",
            "_model_module_version": "1.5.0",
            "_model_name": "DescriptionStyleModel",
            "_view_count": null,
            "_view_module": "@jupyter-widgets/base",
            "_view_module_version": "1.2.0",
            "_view_name": "StyleView",
            "description_width": ""
          }
        },
        "797b567cbccd478ca298b815d01ba602": {
          "model_module": "@jupyter-widgets/controls",
          "model_name": "IntTextModel",
          "model_module_version": "1.5.0",
          "state": {
            "_dom_classes": [],
            "_model_module": "@jupyter-widgets/controls",
            "_model_module_version": "1.5.0",
            "_model_name": "IntTextModel",
            "_view_count": null,
            "_view_module": "@jupyter-widgets/controls",
            "_view_module_version": "1.5.0",
            "_view_name": "IntTextView",
            "continuous_update": false,
            "description": "Monthly Payment:",
            "description_tooltip": null,
            "disabled": false,
            "layout": "IPY_MODEL_0e723365e4424f439f5b8e2791a72534",
            "step": 1,
            "style": "IPY_MODEL_5fd402a0076c40bf86b7a705f232174a",
            "value": 25000
          }
        },
        "0e723365e4424f439f5b8e2791a72534": {
          "model_module": "@jupyter-widgets/base",
          "model_name": "LayoutModel",
          "model_module_version": "1.2.0",
          "state": {
            "_model_module": "@jupyter-widgets/base",
            "_model_module_version": "1.2.0",
            "_model_name": "LayoutModel",
            "_view_count": null,
            "_view_module": "@jupyter-widgets/base",
            "_view_module_version": "1.2.0",
            "_view_name": "LayoutView",
            "align_content": null,
            "align_items": null,
            "align_self": null,
            "border": null,
            "bottom": null,
            "display": null,
            "flex": null,
            "flex_flow": null,
            "grid_area": null,
            "grid_auto_columns": null,
            "grid_auto_flow": null,
            "grid_auto_rows": null,
            "grid_column": null,
            "grid_gap": null,
            "grid_row": null,
            "grid_template_areas": null,
            "grid_template_columns": null,
            "grid_template_rows": null,
            "height": null,
            "justify_content": null,
            "justify_items": null,
            "left": null,
            "margin": null,
            "max_height": null,
            "max_width": null,
            "min_height": null,
            "min_width": null,
            "object_fit": null,
            "object_position": null,
            "order": null,
            "overflow": null,
            "overflow_x": null,
            "overflow_y": null,
            "padding": null,
            "right": null,
            "top": null,
            "visibility": null,
            "width": null
          }
        },
        "5fd402a0076c40bf86b7a705f232174a": {
          "model_module": "@jupyter-widgets/controls",
          "model_name": "DescriptionStyleModel",
          "model_module_version": "1.5.0",
          "state": {
            "_model_module": "@jupyter-widgets/controls",
            "_model_module_version": "1.5.0",
            "_model_name": "DescriptionStyleModel",
            "_view_count": null,
            "_view_module": "@jupyter-widgets/base",
            "_view_module_version": "1.2.0",
            "_view_name": "StyleView",
            "description_width": ""
          }
        },
        "45303655e0da4dd4a35e8f9edb74ae2b": {
          "model_module": "@jupyter-widgets/controls",
          "model_name": "ButtonModel",
          "model_module_version": "1.5.0",
          "state": {
            "_dom_classes": [],
            "_model_module": "@jupyter-widgets/controls",
            "_model_module_version": "1.5.0",
            "_model_name": "ButtonModel",
            "_view_count": null,
            "_view_module": "@jupyter-widgets/controls",
            "_view_module_version": "1.5.0",
            "_view_name": "ButtonView",
            "button_style": "",
            "description": "Track Repayment",
            "disabled": false,
            "icon": "",
            "layout": "IPY_MODEL_386078ce27ff4128b4c7cf855358ea13",
            "style": "IPY_MODEL_09b499c7d054492199ebfe3a5e98add3",
            "tooltip": ""
          }
        },
        "386078ce27ff4128b4c7cf855358ea13": {
          "model_module": "@jupyter-widgets/base",
          "model_name": "LayoutModel",
          "model_module_version": "1.2.0",
          "state": {
            "_model_module": "@jupyter-widgets/base",
            "_model_module_version": "1.2.0",
            "_model_name": "LayoutModel",
            "_view_count": null,
            "_view_module": "@jupyter-widgets/base",
            "_view_module_version": "1.2.0",
            "_view_name": "LayoutView",
            "align_content": null,
            "align_items": null,
            "align_self": null,
            "border": null,
            "bottom": null,
            "display": null,
            "flex": null,
            "flex_flow": null,
            "grid_area": null,
            "grid_auto_columns": null,
            "grid_auto_flow": null,
            "grid_auto_rows": null,
            "grid_column": null,
            "grid_gap": null,
            "grid_row": null,
            "grid_template_areas": null,
            "grid_template_columns": null,
            "grid_template_rows": null,
            "height": null,
            "justify_content": null,
            "justify_items": null,
            "left": null,
            "margin": null,
            "max_height": null,
            "max_width": null,
            "min_height": null,
            "min_width": null,
            "object_fit": null,
            "object_position": null,
            "order": null,
            "overflow": null,
            "overflow_x": null,
            "overflow_y": null,
            "padding": null,
            "right": null,
            "top": null,
            "visibility": null,
            "width": null
          }
        },
        "09b499c7d054492199ebfe3a5e98add3": {
          "model_module": "@jupyter-widgets/controls",
          "model_name": "ButtonStyleModel",
          "model_module_version": "1.5.0",
          "state": {
            "_model_module": "@jupyter-widgets/controls",
            "_model_module_version": "1.5.0",
            "_model_name": "ButtonStyleModel",
            "_view_count": null,
            "_view_module": "@jupyter-widgets/base",
            "_view_module_version": "1.2.0",
            "_view_name": "StyleView",
            "button_color": null,
            "font_weight": ""
          }
        },
        "181dca8113b7431f91f83771735e2b44": {
          "model_module": "@jupyter-widgets/output",
          "model_name": "OutputModel",
          "model_module_version": "1.0.0",
          "state": {
            "_dom_classes": [],
            "_model_module": "@jupyter-widgets/output",
            "_model_module_version": "1.0.0",
            "_model_name": "OutputModel",
            "_view_count": null,
            "_view_module": "@jupyter-widgets/output",
            "_view_module_version": "1.0.0",
            "_view_name": "OutputView",
            "layout": "IPY_MODEL_89b3cb9b24704fc99b910dbc479298c4",
            "msg_id": "",
            "outputs": []
          }
        },
        "89b3cb9b24704fc99b910dbc479298c4": {
          "model_module": "@jupyter-widgets/base",
          "model_name": "LayoutModel",
          "model_module_version": "1.2.0",
          "state": {
            "_model_module": "@jupyter-widgets/base",
            "_model_module_version": "1.2.0",
            "_model_name": "LayoutModel",
            "_view_count": null,
            "_view_module": "@jupyter-widgets/base",
            "_view_module_version": "1.2.0",
            "_view_name": "LayoutView",
            "align_content": null,
            "align_items": null,
            "align_self": null,
            "border": null,
            "bottom": null,
            "display": null,
            "flex": null,
            "flex_flow": null,
            "grid_area": null,
            "grid_auto_columns": null,
            "grid_auto_flow": null,
            "grid_auto_rows": null,
            "grid_column": null,
            "grid_gap": null,
            "grid_row": null,
            "grid_template_areas": null,
            "grid_template_columns": null,
            "grid_template_rows": null,
            "height": null,
            "justify_content": null,
            "justify_items": null,
            "left": null,
            "margin": null,
            "max_height": null,
            "max_width": null,
            "min_height": null,
            "min_width": null,
            "object_fit": null,
            "object_position": null,
            "order": null,
            "overflow": null,
            "overflow_x": null,
            "overflow_y": null,
            "padding": null,
            "right": null,
            "top": null,
            "visibility": null,
            "width": null
          }
        },
        "c1f8b900779c4446a218e89897e59c59": {
          "model_module": "@jupyter-widgets/controls",
          "model_name": "ButtonModel",
          "model_module_version": "1.5.0",
          "state": {
            "_dom_classes": [],
            "_model_module": "@jupyter-widgets/controls",
            "_model_module_version": "1.5.0",
            "_model_name": "ButtonModel",
            "_view_count": null,
            "_view_module": "@jupyter-widgets/controls",
            "_view_module_version": "1.5.0",
            "_view_name": "ButtonView",
            "button_style": "",
            "description": "Show Stock Trend",
            "disabled": false,
            "icon": "",
            "layout": "IPY_MODEL_a9e6aee7d84e416c8a7b6519f448de6c",
            "style": "IPY_MODEL_168c096281d443f3ad79788a7dfc0a9a",
            "tooltip": ""
          }
        },
        "a9e6aee7d84e416c8a7b6519f448de6c": {
          "model_module": "@jupyter-widgets/base",
          "model_name": "LayoutModel",
          "model_module_version": "1.2.0",
          "state": {
            "_model_module": "@jupyter-widgets/base",
            "_model_module_version": "1.2.0",
            "_model_name": "LayoutModel",
            "_view_count": null,
            "_view_module": "@jupyter-widgets/base",
            "_view_module_version": "1.2.0",
            "_view_name": "LayoutView",
            "align_content": null,
            "align_items": null,
            "align_self": null,
            "border": null,
            "bottom": null,
            "display": null,
            "flex": null,
            "flex_flow": null,
            "grid_area": null,
            "grid_auto_columns": null,
            "grid_auto_flow": null,
            "grid_auto_rows": null,
            "grid_column": null,
            "grid_gap": null,
            "grid_row": null,
            "grid_template_areas": null,
            "grid_template_columns": null,
            "grid_template_rows": null,
            "height": null,
            "justify_content": null,
            "justify_items": null,
            "left": null,
            "margin": null,
            "max_height": null,
            "max_width": null,
            "min_height": null,
            "min_width": null,
            "object_fit": null,
            "object_position": null,
            "order": null,
            "overflow": null,
            "overflow_x": null,
            "overflow_y": null,
            "padding": null,
            "right": null,
            "top": null,
            "visibility": null,
            "width": null
          }
        },
        "168c096281d443f3ad79788a7dfc0a9a": {
          "model_module": "@jupyter-widgets/controls",
          "model_name": "ButtonStyleModel",
          "model_module_version": "1.5.0",
          "state": {
            "_model_module": "@jupyter-widgets/controls",
            "_model_module_version": "1.5.0",
            "_model_name": "ButtonStyleModel",
            "_view_count": null,
            "_view_module": "@jupyter-widgets/base",
            "_view_module_version": "1.2.0",
            "_view_name": "StyleView",
            "button_color": null,
            "font_weight": ""
          }
        },
        "93e387e1d2c1401e88a609f0fd55d451": {
          "model_module": "@jupyter-widgets/output",
          "model_name": "OutputModel",
          "model_module_version": "1.0.0",
          "state": {
            "_dom_classes": [],
            "_model_module": "@jupyter-widgets/output",
            "_model_module_version": "1.0.0",
            "_model_name": "OutputModel",
            "_view_count": null,
            "_view_module": "@jupyter-widgets/output",
            "_view_module_version": "1.0.0",
            "_view_name": "OutputView",
            "layout": "IPY_MODEL_82c63485847641e4ad32df549649f0a2",
            "msg_id": "",
            "outputs": [
              {
                "output_type": "display_data",
                "data": {
                  "text/plain": "<Figure size 600x300 with 1 Axes>",
                  "image/png": "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\n"
                },
                "metadata": {}
              }
            ]
          }
        },
        "82c63485847641e4ad32df549649f0a2": {
          "model_module": "@jupyter-widgets/base",
          "model_name": "LayoutModel",
          "model_module_version": "1.2.0",
          "state": {
            "_model_module": "@jupyter-widgets/base",
            "_model_module_version": "1.2.0",
            "_model_name": "LayoutModel",
            "_view_count": null,
            "_view_module": "@jupyter-widgets/base",
            "_view_module_version": "1.2.0",
            "_view_name": "LayoutView",
            "align_content": null,
            "align_items": null,
            "align_self": null,
            "border": null,
            "bottom": null,
            "display": null,
            "flex": null,
            "flex_flow": null,
            "grid_area": null,
            "grid_auto_columns": null,
            "grid_auto_flow": null,
            "grid_auto_rows": null,
            "grid_column": null,
            "grid_gap": null,
            "grid_row": null,
            "grid_template_areas": null,
            "grid_template_columns": null,
            "grid_template_rows": null,
            "height": null,
            "justify_content": null,
            "justify_items": null,
            "left": null,
            "margin": null,
            "max_height": null,
            "max_width": null,
            "min_height": null,
            "min_width": null,
            "object_fit": null,
            "object_position": null,
            "order": null,
            "overflow": null,
            "overflow_x": null,
            "overflow_y": null,
            "padding": null,
            "right": null,
            "top": null,
            "visibility": null,
            "width": null
          }
        },
        "17e270322c994ba08612025318c92b1f": {
          "model_module": "@jupyter-widgets/controls",
          "model_name": "FloatTextModel",
          "model_module_version": "1.5.0",
          "state": {
            "_dom_classes": [],
            "_model_module": "@jupyter-widgets/controls",
            "_model_module_version": "1.5.0",
            "_model_name": "FloatTextModel",
            "_view_count": null,
            "_view_module": "@jupyter-widgets/controls",
            "_view_module_version": "1.5.0",
            "_view_name": "FloatTextView",
            "continuous_update": false,
            "description": "Amount in PKR:",
            "description_tooltip": null,
            "disabled": false,
            "layout": "IPY_MODEL_acb95517200e4e2fbdee26f0f46df4b3",
            "step": null,
            "style": "IPY_MODEL_2f062d1045e84c5da03f5ab6c234af7b",
            "value": 879
          }
        },
        "acb95517200e4e2fbdee26f0f46df4b3": {
          "model_module": "@jupyter-widgets/base",
          "model_name": "LayoutModel",
          "model_module_version": "1.2.0",
          "state": {
            "_model_module": "@jupyter-widgets/base",
            "_model_module_version": "1.2.0",
            "_model_name": "LayoutModel",
            "_view_count": null,
            "_view_module": "@jupyter-widgets/base",
            "_view_module_version": "1.2.0",
            "_view_name": "LayoutView",
            "align_content": null,
            "align_items": null,
            "align_self": null,
            "border": null,
            "bottom": null,
            "display": null,
            "flex": null,
            "flex_flow": null,
            "grid_area": null,
            "grid_auto_columns": null,
            "grid_auto_flow": null,
            "grid_auto_rows": null,
            "grid_column": null,
            "grid_gap": null,
            "grid_row": null,
            "grid_template_areas": null,
            "grid_template_columns": null,
            "grid_template_rows": null,
            "height": null,
            "justify_content": null,
            "justify_items": null,
            "left": null,
            "margin": null,
            "max_height": null,
            "max_width": null,
            "min_height": null,
            "min_width": null,
            "object_fit": null,
            "object_position": null,
            "order": null,
            "overflow": null,
            "overflow_x": null,
            "overflow_y": null,
            "padding": null,
            "right": null,
            "top": null,
            "visibility": null,
            "width": null
          }
        },
        "2f062d1045e84c5da03f5ab6c234af7b": {
          "model_module": "@jupyter-widgets/controls",
          "model_name": "DescriptionStyleModel",
          "model_module_version": "1.5.0",
          "state": {
            "_model_module": "@jupyter-widgets/controls",
            "_model_module_version": "1.5.0",
            "_model_name": "DescriptionStyleModel",
            "_view_count": null,
            "_view_module": "@jupyter-widgets/base",
            "_view_module_version": "1.2.0",
            "_view_name": "StyleView",
            "description_width": ""
          }
        },
        "937ac526506e41c09d29803f7af1f05d": {
          "model_module": "@jupyter-widgets/controls",
          "model_name": "FloatTextModel",
          "model_module_version": "1.5.0",
          "state": {
            "_dom_classes": [],
            "_model_module": "@jupyter-widgets/controls",
            "_model_module_version": "1.5.0",
            "_model_name": "FloatTextModel",
            "_view_count": null,
            "_view_module": "@jupyter-widgets/controls",
            "_view_module_version": "1.5.0",
            "_view_name": "FloatTextView",
            "continuous_update": false,
            "description": "Exchange Rate:",
            "description_tooltip": null,
            "disabled": false,
            "layout": "IPY_MODEL_f8875c4e7fbb48f0814a86c48166a88f",
            "step": null,
            "style": "IPY_MODEL_0ea4b630c67d4e7e91b8f775886b4fd7",
            "value": 0.0056
          }
        },
        "f8875c4e7fbb48f0814a86c48166a88f": {
          "model_module": "@jupyter-widgets/base",
          "model_name": "LayoutModel",
          "model_module_version": "1.2.0",
          "state": {
            "_model_module": "@jupyter-widgets/base",
            "_model_module_version": "1.2.0",
            "_model_name": "LayoutModel",
            "_view_count": null,
            "_view_module": "@jupyter-widgets/base",
            "_view_module_version": "1.2.0",
            "_view_name": "LayoutView",
            "align_content": null,
            "align_items": null,
            "align_self": null,
            "border": null,
            "bottom": null,
            "display": null,
            "flex": null,
            "flex_flow": null,
            "grid_area": null,
            "grid_auto_columns": null,
            "grid_auto_flow": null,
            "grid_auto_rows": null,
            "grid_column": null,
            "grid_gap": null,
            "grid_row": null,
            "grid_template_areas": null,
            "grid_template_columns": null,
            "grid_template_rows": null,
            "height": null,
            "justify_content": null,
            "justify_items": null,
            "left": null,
            "margin": null,
            "max_height": null,
            "max_width": null,
            "min_height": null,
            "min_width": null,
            "object_fit": null,
            "object_position": null,
            "order": null,
            "overflow": null,
            "overflow_x": null,
            "overflow_y": null,
            "padding": null,
            "right": null,
            "top": null,
            "visibility": null,
            "width": null
          }
        },
        "0ea4b630c67d4e7e91b8f775886b4fd7": {
          "model_module": "@jupyter-widgets/controls",
          "model_name": "DescriptionStyleModel",
          "model_module_version": "1.5.0",
          "state": {
            "_model_module": "@jupyter-widgets/controls",
            "_model_module_version": "1.5.0",
            "_model_name": "DescriptionStyleModel",
            "_view_count": null,
            "_view_module": "@jupyter-widgets/base",
            "_view_module_version": "1.2.0",
            "_view_name": "StyleView",
            "description_width": ""
          }
        },
        "aaebbe6016cf45a4a8611e6112624569": {
          "model_module": "@jupyter-widgets/controls",
          "model_name": "ButtonModel",
          "model_module_version": "1.5.0",
          "state": {
            "_dom_classes": [],
            "_model_module": "@jupyter-widgets/controls",
            "_model_module_version": "1.5.0",
            "_model_name": "ButtonModel",
            "_view_count": null,
            "_view_module": "@jupyter-widgets/controls",
            "_view_module_version": "1.5.0",
            "_view_name": "ButtonView",
            "button_style": "",
            "description": "Convert to USD",
            "disabled": false,
            "icon": "",
            "layout": "IPY_MODEL_aa17641e1b4b47589d0903d04fe343c7",
            "style": "IPY_MODEL_338253d2fa7e4920989627fa86ca6663",
            "tooltip": ""
          }
        },
        "aa17641e1b4b47589d0903d04fe343c7": {
          "model_module": "@jupyter-widgets/base",
          "model_name": "LayoutModel",
          "model_module_version": "1.2.0",
          "state": {
            "_model_module": "@jupyter-widgets/base",
            "_model_module_version": "1.2.0",
            "_model_name": "LayoutModel",
            "_view_count": null,
            "_view_module": "@jupyter-widgets/base",
            "_view_module_version": "1.2.0",
            "_view_name": "LayoutView",
            "align_content": null,
            "align_items": null,
            "align_self": null,
            "border": null,
            "bottom": null,
            "display": null,
            "flex": null,
            "flex_flow": null,
            "grid_area": null,
            "grid_auto_columns": null,
            "grid_auto_flow": null,
            "grid_auto_rows": null,
            "grid_column": null,
            "grid_gap": null,
            "grid_row": null,
            "grid_template_areas": null,
            "grid_template_columns": null,
            "grid_template_rows": null,
            "height": null,
            "justify_content": null,
            "justify_items": null,
            "left": null,
            "margin": null,
            "max_height": null,
            "max_width": null,
            "min_height": null,
            "min_width": null,
            "object_fit": null,
            "object_position": null,
            "order": null,
            "overflow": null,
            "overflow_x": null,
            "overflow_y": null,
            "padding": null,
            "right": null,
            "top": null,
            "visibility": null,
            "width": null
          }
        },
        "338253d2fa7e4920989627fa86ca6663": {
          "model_module": "@jupyter-widgets/controls",
          "model_name": "ButtonStyleModel",
          "model_module_version": "1.5.0",
          "state": {
            "_model_module": "@jupyter-widgets/controls",
            "_model_module_version": "1.5.0",
            "_model_name": "ButtonStyleModel",
            "_view_count": null,
            "_view_module": "@jupyter-widgets/base",
            "_view_module_version": "1.2.0",
            "_view_name": "StyleView",
            "button_color": null,
            "font_weight": ""
          }
        },
        "e6e1f83f7e9d4f5588393676450d2485": {
          "model_module": "@jupyter-widgets/output",
          "model_name": "OutputModel",
          "model_module_version": "1.0.0",
          "state": {
            "_dom_classes": [],
            "_model_module": "@jupyter-widgets/output",
            "_model_module_version": "1.0.0",
            "_model_name": "OutputModel",
            "_view_count": null,
            "_view_module": "@jupyter-widgets/output",
            "_view_module_version": "1.0.0",
            "_view_name": "OutputView",
            "layout": "IPY_MODEL_1bb40bb367854be488e072858b2363dd",
            "msg_id": "",
            "outputs": [
              {
                "output_type": "display_data",
                "data": {
                  "text/plain": "'Converted Amount: $4.92'",
                  "application/vnd.google.colaboratory.intrinsic+json": {
                    "type": "string"
                  }
                },
                "metadata": {}
              }
            ]
          }
        },
        "1bb40bb367854be488e072858b2363dd": {
          "model_module": "@jupyter-widgets/base",
          "model_name": "LayoutModel",
          "model_module_version": "1.2.0",
          "state": {
            "_model_module": "@jupyter-widgets/base",
            "_model_module_version": "1.2.0",
            "_model_name": "LayoutModel",
            "_view_count": null,
            "_view_module": "@jupyter-widgets/base",
            "_view_module_version": "1.2.0",
            "_view_name": "LayoutView",
            "align_content": null,
            "align_items": null,
            "align_self": null,
            "border": null,
            "bottom": null,
            "display": null,
            "flex": null,
            "flex_flow": null,
            "grid_area": null,
            "grid_auto_columns": null,
            "grid_auto_flow": null,
            "grid_auto_rows": null,
            "grid_column": null,
            "grid_gap": null,
            "grid_row": null,
            "grid_template_areas": null,
            "grid_template_columns": null,
            "grid_template_rows": null,
            "height": null,
            "justify_content": null,
            "justify_items": null,
            "left": null,
            "margin": null,
            "max_height": null,
            "max_width": null,
            "min_height": null,
            "min_width": null,
            "object_fit": null,
            "object_position": null,
            "order": null,
            "overflow": null,
            "overflow_x": null,
            "overflow_y": null,
            "padding": null,
            "right": null,
            "top": null,
            "visibility": null,
            "width": null
          }
        }
      }
    }
  },
  "cells": [
    {
      "cell_type": "markdown",
      "source": [
        "# **AF3005 – Programming for Finance**  \n",
        "\n",
        "---\n",
        "\n",
        "## **📘 Assignment 1: Smart Financial Management System**  \n",
        "\n",
        "📍 **FAST National University of Computer and Emerging Sciences (FAST-NUCES), Islamabad**  \n",
        "👨‍🏫 **Instructor:** Dr. Usama Arshad (Assistant Professor, FSM)  \n",
        "🎓 **Program:** BS Financial Technology (BSFT)  \n",
        "📅 **Semester:** Spring 2025  \n",
        "📌 **Sections:** BSFT06A, BSFT06B, BSFT06C  \n",
        "\n",
        "---\n",
        "\n",
        "## **🎯 Course Learning Outcomes (CLOs)**  \n",
        "- **CLO1:** Write Python programs to solve basic financial problems.  \n",
        "- **CLO2:** Perform data manipulation and analysis using Python libraries.  \n",
        "\n",
        "---\n",
        "\n",
        "\n",
        "\n",
        "\n",
        "\n",
        "\n",
        "\n",
        "\n",
        "\n",
        "\n",
        "\n"
      ],
      "metadata": {
        "id": "5SRLdaqmHtmP"
      }
    },
    {
      "cell_type": "markdown",
      "source": [
        "\n",
        "# **🟢 Deadline: 15th February 2025**\n",
        "\n",
        "---\n",
        "\n"
      ],
      "metadata": {
        "id": "wXgvxhSVQXNz"
      }
    },
    {
      "cell_type": "markdown",
      "source": [
        "## **📥 Submission Guidelines**\n",
        "- **File Format:** Submit your assignment as a Jupyter Notebook file (`.ipynb`).\n",
        "- **Naming Convention:** Use the format `[Your_regno]_AF3005_Assignment1.ipynb`.\n",
        "- **Submission Platform:** Upload your file to **Google Classroom** under the assigned submission.\n",
        "- **GitHub Repository:**\n",
        "  - Create a GitHub repository named `AF3005_ProgrammingForFinance`.\n",
        "  - Upload your `.ipynb` file.\n",
        "  - Ensure the repository is structured properly with a `README.md` explaining the implementation.\n",
        "  - The implementation must include `ipywidgets` for interactive elements.\n",
        "  - Share the GitHub repository link in Google Classroom submission with file.\n",
        "\n",
        "---\n",
        "\n",
        "---\n",
        "\n"
      ],
      "metadata": {
        "id": "mHDXP18hMn3A"
      }
    },
    {
      "cell_type": "markdown",
      "source": [
        "# **🟢 Scenario: Smart Financial Management System [20 marks]**  \n",
        "\n",
        "\n",
        "---\n",
        "\n",
        "\n",
        "SecureBank wants to develop an **automated financial management system** using Python. Your task is to implement different financial operations step by step.\n",
        "\n",
        "This system will:  \n",
        "✅ **Assess customer eligibility for loans.**  \n",
        "✅ **Classify investment portfolios based on risk.**  \n",
        "✅ **Automate loan repayment tracking.**  \n",
        "✅ **Monitor stock market trends and trigger alerts.**  \n",
        "✅ **Track currency exchange rates and suggest conversions.**  \n",
        "\n",
        "Your task is to **break down the requirements, write a structured plan, and implement the logic step by step** using **ipywidgets** for interactive user inputs.\n",
        "\n",
        "---\n",
        "\n"
      ],
      "metadata": {
        "id": "XEanO5EiLdC9"
      }
    },
    {
      "cell_type": "markdown",
      "source": [
        "## **🟢 Part 1: Loan Eligibility & Interest Rate Calculation [4 marks]**  \n",
        "\n",
        "📌 **Requirement:**  \n",
        "SecureBank only approves loans if the **customer meets all eligibility criteria**. The system should:  \n",
        "✔ **Check if the customer is employed.**  \n",
        "✔ **Verify if the income is at least PKR 50,000.**  \n",
        "✔ **Check credit score:**  \n",
        "   - **750+ → 5% Interest Rate**  \n",
        "   - **650 - 749 → 8% Interest Rate**  \n",
        "   - **Below 650 → Loan Rejected**  \n",
        "✔ **If the applicant is unemployed, the loan is rejected immediately.**  \n",
        "\n",
        "### **Implementation Steps:**  \n",
        "🔹 **Step 1:** Structure the `if-elif-else` statements for this logic.  \n",
        "🔹 **Step 2:** Implement a Python program using **ipywidgets** for interactive user input (income, credit score, employment status) to decide whether the loan is approved or rejected.\n",
        "\n",
        "---"
      ],
      "metadata": {
        "id": "sIKHzkmkLYYM"
      }
    },
    {
      "cell_type": "code",
      "source": [
        "import ipywidgets as widgets\n",
        "from IPython.display import display, clear_output\n",
        "import matplotlib.pyplot as plt\n",
        "import random\n",
        "\n",
        "# Loan Eligibility & Interest Rate Calculation\n",
        "def check_loan_eligibility(income, credit_score, employment_status):\n",
        "    if employment_status == 'Unemployed':\n",
        "        return \"Loan Rejected\"\n",
        "    elif income < 50000:\n",
        "        return \"Loan Rejected\"\n",
        "    else:\n",
        "        if credit_score >= 750:\n",
        "            return \"Loan Approved: 5% Interest Rate\"\n",
        "        elif 650 <= credit_score < 750:\n",
        "            return \"Loan Approved: 8% Interest Rate\"\n",
        "        else:\n",
        "            return \"Loan Rejected\"\n",
        "# Widgets for Loan Eligibility\n",
        "income_widget = widgets.IntText(description=\"Income (PKR):\")\n",
        "credit_widget = widgets.IntSlider(min=300, max=850, step=10, description=\"Credit Score:\")\n",
        "employment_widget = widgets.Dropdown(options=['Employed', 'Unemployed'], description=\"Employment:\")\n",
        "button = widgets.Button(description=\"Check Loan Eligibility\")\n",
        "output = widgets.Output()\n",
        "\n",
        "def on_button_click(b):\n",
        "    with output:\n",
        "        clear_output()\n",
        "        result = check_loan_eligibility(income_widget.value, credit_widget.value, employment_widget.value)\n",
        "        display(result)\n",
        "\n",
        "button.on_click(on_button_click)\n",
        "\n",
        "display(income_widget, credit_widget, employment_widget, button, output)"
      ],
      "metadata": {
        "id": "JnoBYZkTKqRw",
        "colab": {
          "base_uri": "https://localhost:8080/",
          "height": 141,
          "referenced_widgets": [
            "bbc8dfc2837e4f0b8f5b71f58d210095",
            "abb1412dcfc5407da73cbf676318a56c",
            "a52acb6ff8e5469d9ae23300dc3b2f19",
            "2494d2a9218149c1b202104875906956",
            "c1b94ae32956452a8f79e3f5e950a4d0",
            "42bbcedcaff54fe3ad6ea11188bd5e4d",
            "7eb2e4e2ce43450ababf0fa0aea34930",
            "5dbb25be8c4b434a93230e7f46567345",
            "d298cffbccc8429ab12c89a4881618ec",
            "7e9edac9c85d46b2ae1140bc44f31a1b",
            "baf0a9f17b7d4326bcb308bf60c587e7",
            "83b818c9f4b147ab82ccc6bdc455b737",
            "d6d4768238f745e19833f71152ba7d9c",
            "56688e4bfd654d5fabd7a67cbf4f89d3"
          ]
        },
        "outputId": "df37fc51-8c15-4563-f9c2-dd17578407f4"
      },
      "execution_count": 2,
      "outputs": [
        {
          "output_type": "display_data",
          "data": {
            "text/plain": [
              "IntText(value=0, description='Income (PKR):')"
            ],
            "application/vnd.jupyter.widget-view+json": {
              "version_major": 2,
              "version_minor": 0,
              "model_id": "bbc8dfc2837e4f0b8f5b71f58d210095"
            }
          },
          "metadata": {}
        },
        {
          "output_type": "display_data",
          "data": {
            "text/plain": [
              "IntSlider(value=300, description='Credit Score:', max=850, min=300, step=10)"
            ],
            "application/vnd.jupyter.widget-view+json": {
              "version_major": 2,
              "version_minor": 0,
              "model_id": "2494d2a9218149c1b202104875906956"
            }
          },
          "metadata": {}
        },
        {
          "output_type": "display_data",
          "data": {
            "text/plain": [
              "Dropdown(description='Employment:', options=('Employed', 'Unemployed'), value='Employed')"
            ],
            "application/vnd.jupyter.widget-view+json": {
              "version_major": 2,
              "version_minor": 0,
              "model_id": "7eb2e4e2ce43450ababf0fa0aea34930"
            }
          },
          "metadata": {}
        },
        {
          "output_type": "display_data",
          "data": {
            "text/plain": [
              "Button(description='Check Loan Eligibility', style=ButtonStyle())"
            ],
            "application/vnd.jupyter.widget-view+json": {
              "version_major": 2,
              "version_minor": 0,
              "model_id": "7e9edac9c85d46b2ae1140bc44f31a1b"
            }
          },
          "metadata": {}
        },
        {
          "output_type": "display_data",
          "data": {
            "text/plain": [
              "Output()"
            ],
            "application/vnd.jupyter.widget-view+json": {
              "version_major": 2,
              "version_minor": 0,
              "model_id": "d6d4768238f745e19833f71152ba7d9c"
            }
          },
          "metadata": {}
        }
      ]
    },
    {
      "cell_type": "markdown",
      "source": [
        "## **🟢 Part 2: Investment Risk Assessment [4 marks]**  \n",
        "\n",
        "📌 **Requirement:**  \n",
        "SecureBank offers **investment analysis services**. The system should evaluate a **portfolio of stocks** and classify the risk level based on stock returns:  \n",
        "✔ If **any stock has a negative return**, the portfolio is **High Risk**.  \n",
        "✔ If **all stocks have positive returns**, but at least one return is below 5%, classify as **Medium Risk**.  \n",
        "✔ If **all stock returns are 5% or above**, classify as **Low Risk**.  \n",
        "\n",
        "### **Implementation Steps:**  \n",
        "🔹 **Step 1:** Use loops to iterate through the list of stock returns.  \n",
        "🔹 **Step 2:** Implement `if-elif` conditions to classify the risk.  \n",
        "🔹 **Step 3:** Write a Python program using **ipywidgets** to allow users to **input stock returns interactively** and receive a risk assessment.\n",
        "\n",
        "---"
      ],
      "metadata": {
        "id": "s66ykZPwKmRL"
      }
    },
    {
      "cell_type": "code",
      "source": [
        "# Investment Risk Assessment\n",
        "def assess_investment_risk(returns):\n",
        "    if any(r < 0 for r in returns):\n",
        "        return \"High Risk\"\n",
        "    elif all(r >= 5 for r in returns):\n",
        "        return \"Low Risk\"\n",
        "    else:\n",
        "        return \"Medium Risk\"\n",
        "\n",
        "# Widgets for Investment Risk\n",
        "returns_widget = widgets.Text(description=\"Stock Returns (comma separated):\")\n",
        "button_risk = widgets.Button(description=\"Assess Risk\")\n",
        "output_risk = widgets.Output()\n",
        "\n",
        "def on_risk_button_click(b):\n",
        "    with output_risk:\n",
        "        clear_output()\n",
        "        returns = list(map(float, returns_widget.value.split(',')))\n",
        "        result = assess_investment_risk(returns)\n",
        "        display(result)\n",
        "\n",
        "button_risk.on_click(on_risk_button_click)\n",
        "\n",
        "display(returns_widget, button_risk, output_risk)"
      ],
      "metadata": {
        "id": "I6Mi2LbOKtym",
        "colab": {
          "base_uri": "https://localhost:8080/",
          "height": 81,
          "referenced_widgets": [
            "cfbcd0c08f1540a699a6bf7e6bea9382",
            "6925ab69200943adae6143e42c7f09c7",
            "fbc3330036e345928ee4a5676e9ec537",
            "55bd18ec9d4047e8933aec5a5ca0e309",
            "f25ac0807f3641159b3aff1041a72452",
            "5fd1fdc034004990988e9691d31ba850",
            "d5c82b11d58b4ebe875ac017a6925b37",
            "d5b7137b35fb445c9379ad30aed9a0ab"
          ]
        },
        "outputId": "34fb4851-0f48-4db9-dd97-b9a3c26e5896"
      },
      "execution_count": 3,
      "outputs": [
        {
          "output_type": "display_data",
          "data": {
            "text/plain": [
              "Text(value='', description='Stock Returns (comma separated):')"
            ],
            "application/vnd.jupyter.widget-view+json": {
              "version_major": 2,
              "version_minor": 0,
              "model_id": "cfbcd0c08f1540a699a6bf7e6bea9382"
            }
          },
          "metadata": {}
        },
        {
          "output_type": "display_data",
          "data": {
            "text/plain": [
              "Button(description='Assess Risk', style=ButtonStyle())"
            ],
            "application/vnd.jupyter.widget-view+json": {
              "version_major": 2,
              "version_minor": 0,
              "model_id": "55bd18ec9d4047e8933aec5a5ca0e309"
            }
          },
          "metadata": {}
        },
        {
          "output_type": "display_data",
          "data": {
            "text/plain": [
              "Output()"
            ],
            "application/vnd.jupyter.widget-view+json": {
              "version_major": 2,
              "version_minor": 0,
              "model_id": "d5c82b11d58b4ebe875ac017a6925b37"
            }
          },
          "metadata": {}
        }
      ]
    },
    {
      "cell_type": "markdown",
      "source": [
        "## **🟢 Part 3: Loan Repayment Tracker [4 marks]**  \n",
        "\n",
        "📌 **Requirement:**  \n",
        "Customers who receive a loan should be able to track their **loan balance** as they make monthly payments. The system should:  \n",
        "✔ Start with an **initial loan balance** (e.g., PKR 500,000).  \n",
        "✔ Deduct a **fixed monthly payment** (e.g., PKR 25,000).  \n",
        "✔ Continue tracking until **loan balance reaches zero**.  \n",
        "✔ Display the remaining balance **after each payment**.  \n",
        "\n",
        "### **Implementation Steps:**  \n",
        "🔹 **Step 1:** Choose an appropriate loop (`for` or `while`).  \n",
        "🔹 **Step 2:** Ensure the loop **stops once the loan is fully paid**.  \n",
        "🔹 **Step 3:** Implement a Python program using **ipywidgets** to **simulate loan repayment interactively**.\n",
        "\n",
        "---"
      ],
      "metadata": {
        "id": "xTrlsvaZKhaQ"
      }
    },
    {
      "cell_type": "code",
      "source": [
        "# Loan Repayment Tracker\n",
        "def track_loan_repayment(loan_amount, monthly_payment):\n",
        "    balance = loan_amount\n",
        "    payments = []\n",
        "    while balance > 0:\n",
        "        balance -= monthly_payment\n",
        "        balance = max(balance, 0)\n",
        "        payments.append(balance)\n",
        "    return payments\n",
        "\n",
        "# Widgets for Loan Repayment\n",
        "loan_widget = widgets.IntText(value=500000, description=\"Loan Amount:\")\n",
        "payment_widget = widgets.IntText(value=25000, description=\"Monthly Payment:\")\n",
        "button_repay = widgets.Button(description=\"Track Repayment\")\n",
        "output_repay = widgets.Output()\n",
        "\n",
        "def on_repay_button_click(b):\n",
        "    with output_repay:\n",
        "        clear_output()\n",
        "        payments = track_loan_repayment(loan_widget.value, payment_widget.value)\n",
        "        plt.figure(figsize=(6,3))\n",
        "        plt.plot(range(len(payments)), payments, marker='o', linestyle='-', color='b')\n",
        "        plt.xlabel(\"Months\")\n",
        "        plt.ylabel(\"Remaining Loan Balance (PKR)\")\n",
        "        plt.title(\"Loan Repayment Progress\")\n",
        "        plt.grid(True)\n",
        "        plt.show()\n",
        "\n",
        "button_repay.on_click(on_repay_button_click)\n",
        "\n",
        "display(loan_widget, payment_widget, button_repay, output_repay)"
      ],
      "metadata": {
        "id": "h3V9vFDjKvGH",
        "colab": {
          "base_uri": "https://localhost:8080/",
          "height": 111,
          "referenced_widgets": [
            "f6748cfe81a4408b828fbe4daaa0f155",
            "a92f9ed640fd4e358900513230d0da3c",
            "a132f0b574f54ce08cac44c3aecf82e6",
            "797b567cbccd478ca298b815d01ba602",
            "0e723365e4424f439f5b8e2791a72534",
            "5fd402a0076c40bf86b7a705f232174a",
            "45303655e0da4dd4a35e8f9edb74ae2b",
            "386078ce27ff4128b4c7cf855358ea13",
            "09b499c7d054492199ebfe3a5e98add3",
            "181dca8113b7431f91f83771735e2b44",
            "89b3cb9b24704fc99b910dbc479298c4"
          ]
        },
        "outputId": "95ae57f3-f999-4a24-83b6-1366af1f3899"
      },
      "execution_count": 4,
      "outputs": [
        {
          "output_type": "display_data",
          "data": {
            "text/plain": [
              "IntText(value=500000, description='Loan Amount:')"
            ],
            "application/vnd.jupyter.widget-view+json": {
              "version_major": 2,
              "version_minor": 0,
              "model_id": "f6748cfe81a4408b828fbe4daaa0f155"
            }
          },
          "metadata": {}
        },
        {
          "output_type": "display_data",
          "data": {
            "text/plain": [
              "IntText(value=25000, description='Monthly Payment:')"
            ],
            "application/vnd.jupyter.widget-view+json": {
              "version_major": 2,
              "version_minor": 0,
              "model_id": "797b567cbccd478ca298b815d01ba602"
            }
          },
          "metadata": {}
        },
        {
          "output_type": "display_data",
          "data": {
            "text/plain": [
              "Button(description='Track Repayment', style=ButtonStyle())"
            ],
            "application/vnd.jupyter.widget-view+json": {
              "version_major": 2,
              "version_minor": 0,
              "model_id": "45303655e0da4dd4a35e8f9edb74ae2b"
            }
          },
          "metadata": {}
        },
        {
          "output_type": "display_data",
          "data": {
            "text/plain": [
              "Output()"
            ],
            "application/vnd.jupyter.widget-view+json": {
              "version_major": 2,
              "version_minor": 0,
              "model_id": "181dca8113b7431f91f83771735e2b44"
            }
          },
          "metadata": {}
        }
      ]
    },
    {
      "cell_type": "markdown",
      "source": [
        "\n",
        "## **🟢 Part 4: Stock Price Monitoring and Trading Strategy [4 marks]**  \n",
        "\n",
        "📌 **Requirement:**  \n",
        "A stock trader wants to **track stock prices daily** and **sell when the price reaches PKR 200**. The system should:  \n",
        "✔ Iterate through a **list of stock prices**.  \n",
        "✔ **Skip missing stock data** (`None` values).  \n",
        "✔ Stop tracking **once the price reaches PKR 200**.  \n",
        "\n",
        "### **Implementation Steps:**  \n",
        "🔹 **Step 1:** Handle missing stock data using `continue`.  \n",
        "🔹 **Step 2:** Stop tracking once the stock hits the target price (`break`).  \n",
        "🔹 **Step 3:** Write a Python program using **ipywidgets** to **process stock prices interactively** and trigger alerts when conditions are met.\n",
        "\n",
        "---"
      ],
      "metadata": {
        "id": "3V72WRTcKc17"
      }
    },
    {
      "cell_type": "code",
      "source": [
        "# Stock Market Trend Monitoring\n",
        "def simulate_stock_trend():\n",
        "    days = list(range(1, 11))\n",
        "    prices = [random.randint(100, 1000) for _ in days]\n",
        "    plt.figure(figsize=(6,3))\n",
        "    plt.plot(days, prices, marker='o', linestyle='-', color='g')\n",
        "    plt.xlabel(\"Days\")\n",
        "    plt.ylabel(\"Stock Price (PKR)\")\n",
        "    plt.title(\"Stock Market Trend\")\n",
        "    plt.grid(True)\n",
        "    plt.show()\n",
        "\n",
        "button_stock_trend = widgets.Button(description=\"Show Stock Trend\")\n",
        "output_stock = widgets.Output()\n",
        "\n",
        "def on_stock_trend_click(b):\n",
        "    with output_stock:\n",
        "        clear_output()\n",
        "        simulate_stock_trend()\n",
        "\n",
        "button_stock_trend.on_click(on_stock_trend_click)\n",
        "\n",
        "display(button_stock_trend, output_stock)"
      ],
      "metadata": {
        "id": "G4v6qt6GKwFN",
        "colab": {
          "base_uri": "https://localhost:8080/",
          "height": 365,
          "referenced_widgets": [
            "c1f8b900779c4446a218e89897e59c59",
            "a9e6aee7d84e416c8a7b6519f448de6c",
            "168c096281d443f3ad79788a7dfc0a9a",
            "93e387e1d2c1401e88a609f0fd55d451",
            "82c63485847641e4ad32df549649f0a2"
          ]
        },
        "outputId": "8b16f400-36e0-4778-a468-f792a177904b"
      },
      "execution_count": 5,
      "outputs": [
        {
          "output_type": "display_data",
          "data": {
            "text/plain": [
              "Button(description='Show Stock Trend', style=ButtonStyle())"
            ],
            "application/vnd.jupyter.widget-view+json": {
              "version_major": 2,
              "version_minor": 0,
              "model_id": "c1f8b900779c4446a218e89897e59c59"
            }
          },
          "metadata": {}
        },
        {
          "output_type": "display_data",
          "data": {
            "text/plain": [
              "Output()"
            ],
            "application/vnd.jupyter.widget-view+json": {
              "version_major": 2,
              "version_minor": 0,
              "model_id": "93e387e1d2c1401e88a609f0fd55d451"
            }
          },
          "metadata": {}
        }
      ]
    },
    {
      "cell_type": "markdown",
      "source": [
        "\n",
        "## **🟢 Part 5: Currency Exchange Rate Tracker [4 marks]**  \n",
        "\n",
        "📌 **Requirement:**  \n",
        "SecureBank provides **real-time currency exchange tracking**. The system should:  \n",
        "✔ Start at **PKR 290/USD**.  \n",
        "✔ Increase by **1 PKR per day** until it reaches **PKR 300/USD**.  \n",
        "✔ Print exchange rates daily and stop when the **target rate is reached**.  \n",
        "\n",
        "### **Implementation Steps:**  \n",
        "🔹 **Step 1:** Choose a suitable loop (`for` or `while`).  \n",
        "🔹 **Step 2:** Stop the loop when the exchange rate reaches the target.  \n",
        "🔹 **Step 3:** Implement a Python program using **ipywidgets** to **track the currency exchange rate interactively**.\n",
        "\n",
        "---"
      ],
      "metadata": {
        "id": "lD82JT7-KXqK"
      }
    },
    {
      "cell_type": "code",
      "source": [
        "# Currency Exchange Rate Tracker\n",
        "def convert_currency(amount, rate):\n",
        "    return amount * rate\n",
        "\n",
        "amount_widget = widgets.FloatText(description=\"Amount in PKR:\")\n",
        "exchange_rate_widget = widgets.FloatText(value=0.0056, description=\"Exchange Rate:\")\n",
        "button_currency = widgets.Button(description=\"Convert to USD\")\n",
        "output_currency = widgets.Output()\n",
        "\n",
        "def on_currency_click(b):\n",
        "    with output_currency:\n",
        "        clear_output()\n",
        "        result = convert_currency(amount_widget.value, exchange_rate_widget.value)\n",
        "        display(f\"Converted Amount: ${result:.2f}\")\n",
        "\n",
        "button_currency.on_click(on_currency_click)\n",
        "\n",
        "display(amount_widget, exchange_rate_widget, button_currency, output_currency)"
      ],
      "metadata": {
        "id": "3xiDWiabKwfr",
        "colab": {
          "base_uri": "https://localhost:8080/",
          "height": 129,
          "referenced_widgets": [
            "17e270322c994ba08612025318c92b1f",
            "acb95517200e4e2fbdee26f0f46df4b3",
            "2f062d1045e84c5da03f5ab6c234af7b",
            "937ac526506e41c09d29803f7af1f05d",
            "f8875c4e7fbb48f0814a86c48166a88f",
            "0ea4b630c67d4e7e91b8f775886b4fd7",
            "aaebbe6016cf45a4a8611e6112624569",
            "aa17641e1b4b47589d0903d04fe343c7",
            "338253d2fa7e4920989627fa86ca6663",
            "e6e1f83f7e9d4f5588393676450d2485",
            "1bb40bb367854be488e072858b2363dd"
          ]
        },
        "outputId": "ec05c682-bbb5-4f67-87b8-1344ad2cd562"
      },
      "execution_count": 6,
      "outputs": [
        {
          "output_type": "display_data",
          "data": {
            "text/plain": [
              "FloatText(value=0.0, description='Amount in PKR:')"
            ],
            "application/vnd.jupyter.widget-view+json": {
              "version_major": 2,
              "version_minor": 0,
              "model_id": "17e270322c994ba08612025318c92b1f"
            }
          },
          "metadata": {}
        },
        {
          "output_type": "display_data",
          "data": {
            "text/plain": [
              "FloatText(value=0.0056, description='Exchange Rate:')"
            ],
            "application/vnd.jupyter.widget-view+json": {
              "version_major": 2,
              "version_minor": 0,
              "model_id": "937ac526506e41c09d29803f7af1f05d"
            }
          },
          "metadata": {}
        },
        {
          "output_type": "display_data",
          "data": {
            "text/plain": [
              "Button(description='Convert to USD', style=ButtonStyle())"
            ],
            "application/vnd.jupyter.widget-view+json": {
              "version_major": 2,
              "version_minor": 0,
              "model_id": "aaebbe6016cf45a4a8611e6112624569"
            }
          },
          "metadata": {}
        },
        {
          "output_type": "display_data",
          "data": {
            "text/plain": [
              "Output()"
            ],
            "application/vnd.jupyter.widget-view+json": {
              "version_major": 2,
              "version_minor": 0,
              "model_id": "e6e1f83f7e9d4f5588393676450d2485"
            }
          },
          "metadata": {}
        }
      ]
    },
    {
      "cell_type": "markdown",
      "source": [
        "*   \n",
        "*\n",
        "*   \n",
        "*   \n",
        "*   \n",
        "*\n",
        "*   \n",
        "*"
      ],
      "metadata": {
        "id": "-gpSKR0APnLP"
      }
    },
    {
      "cell_type": "markdown",
      "source": [
        "\n",
        "\n",
        "---\n",
        "\n",
        "\n",
        "======================================== *to err is human* ========================================\n",
        "\n",
        "\n",
        "---\n",
        "\n"
      ],
      "metadata": {
        "id": "hUFnFKjmKxeH"
      }
    },
    {
      "cell_type": "markdown",
      "source": [
        "*   \n",
        "*\n",
        "*   \n",
        "*   \n",
        "*   \n",
        "*\n",
        "*   \n",
        "*\n",
        "\n",
        "---\n",
        "\n",
        "## **🎯 Grading Rubric (20 Marks)**  \n",
        "\n",
        "| **Criteria**           | **🌟 Excellent (4 Marks)** | **✅ Good (3 Marks)** | **⚠️ Satisfactory (2 Marks)** | **❌ Needs Improvement (1 Mark)** | **🚫 No Attempt (0 Marks)** |\n",
        "|------------------------|-----------------------|------------------|----------------------|----------------------|----------------------|\n",
        "| **📝 Loan Eligibility System**  | ✅ Correct logic with `ipywidgets`, handles user input well. | ⚠️ Mostly correct logic, minor issues. | ❌ Basic logic but missing conditions. | 🚫 Major errors in implementation. | ❌ No implementation. |\n",
        "| **📊 Investment Risk Assessment**  | ✅ Efficient looping with correct risk classification and `ipywidgets`. | ⚠️ Minor issues in logic or implementation. | ❌ Some conditions missing, basic implementation. | 🚫 Incorrect or incomplete logic. | ❌ No implementation. |\n",
        "| **💰 Loan Repayment Tracker**  | ✅ Tracks repayment correctly, interactive using `ipywidgets`. | ⚠️ Correct logic but missing interactivity. | ❌ Loop present but some logic missing. | 🚫 Incorrect approach. | ❌ No implementation. |\n",
        "| **📈 Stock Price Monitoring**  | ✅ Proper use of `continue` and `break`, handles missing values. | ⚠️ Minor logic issues, mostly correct. | ❌ Some conditions missing, partially correct. | 🚫 Incorrect logic, missing key elements. | ❌ No implementation. |\n",
        "| **💹 Currency Exchange Tracker**  | ✅ Correct loop, stops at target rate, structured well with `ipywidgets`. | ⚠️ Mostly correct, minor inefficiencies. | ❌ Incorrect stopping condition, basic implementation. | 🚫 Incorrect approach. | ❌ No implementation. |\n",
        "| **📜 Code Quality & Structure**  | ✅ Well-commented, clean code, follows best practices. | ⚠️ Mostly structured but needs better readability. | ❌ Works but lacks clarity. | 🚫 Unstructured, lacks comments. | ❌ No code present. |\n",
        "| **🎛️ Use of `ipywidgets`** | ✅ Used effectively in all parts, enhances interactivity. | ⚠️ Used in most parts but minor inefficiencies. | ❌ Implemented but not fully functional. | 🚫 Attempted but not used correctly. | ❌ No implementation. |\n",
        "| **📂 GitHub Submission & Documentation** | ✅ Well-structured repo, proper `README.md`. | ⚠️ Repo exists but lacks structured documentation. | ❌ Basic submission, missing details. | 🚫 Attempted but incomplete. | ❌ No submission. |\n",
        "| **📤 Google Classroom Submission** | ✅ Submitted correctly with all required elements. | ⚠️ Submitted but missing minor details. | ❌ Late submission or incomplete. | 🚫 Attempted but missing key parts. | ❌ No submission. |\n",
        "| **🔎 Overall Implementation & Accuracy** | ✅ All features implemented correctly, runs smoothly. | ⚠️ Most features implemented, minor issues. | ❌ Some features missing but basic functionality works. | 🚫 Major features missing. | ❌ No implementation. |\n",
        "\n",
        "---\n",
        "\n"
      ],
      "metadata": {
        "id": "E2rlRDSuPPRt"
      }
    },
    {
      "cell_type": "markdown",
      "source": [
        "*Follow the deadline. This is an individual assignment. Do not copy/paste from LLMs or from other students.*"
      ],
      "metadata": {
        "id": "-_kwwSB6PiZp"
      }
    }
  ]
}